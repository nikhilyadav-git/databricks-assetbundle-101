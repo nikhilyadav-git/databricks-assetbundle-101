{
 "cells": [
  {
   "cell_type": "code",
   "execution_count": null,
   "id": "7efd31a9",
   "metadata": {
    "vscode": {
     "languageId": "plaintext"
    }
   },
   "outputs": [],
   "source": [
    "print('Hello World')"
   ]
  }
 ],
 "metadata": {
  "language_info": {
   "name": "python"
  }
 },
 "nbformat": 4,
 "nbformat_minor": 5
}
